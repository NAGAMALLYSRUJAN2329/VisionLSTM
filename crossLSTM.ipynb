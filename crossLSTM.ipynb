{
  "cells": [
    {
      "cell_type": "code",
      "execution_count": null,
      "metadata": {
        "id": "EF2QyUfHsApF"
      },
      "outputs": [],
      "source": [
        "# !pip install -q xlstm ninja"
      ]
    },
    {
      "cell_type": "code",
      "execution_count": 5,
      "metadata": {
        "id": "CryCnLwJuwIe"
      },
      "outputs": [],
      "source": [
        "# !git clone -q https://github.com/NX-AI/xlstm.git\n",
        "# !git clone -q https://github.com/IBM/CrossViT.git\n",
        "# !cd xlstm && pip install -e .\n",
        "# content = \"\"\"torch\n",
        "# torchvision\n",
        "# timm==0.4.12\n",
        "# fvcore\n",
        "# einops\n",
        "# submitit\"\"\"\n",
        "# with open('CrossViT/requirements.txt', 'w') as f:\n",
        "#     f.write(content)\n",
        "# !cd CrossViT && pip install -q -r requirements.txt && pip install -q ninja\n",
        "# !cp -r xlstm CrossViT/models\n",
        "# !cp -r /content/crossvit.py /content/CrossViT/models/crossvit.py\n",
        "# !wget -q https://wallpaperaccess.com/full/4723250.jpg -O test.jpg"
      ]
    },
    {
      "cell_type": "code",
      "execution_count": 6,
      "metadata": {
        "id": "AYQa1QWzC8c-"
      },
      "outputs": [],
      "source": [
        "import os\n",
        "import shutil\n",
        "\n",
        "base_dir = \"CrossViT/data\"\n",
        "os.makedirs(base_dir, exist_ok=True)\n",
        "\n",
        "train_data = {\n",
        "    'class1': ['img1.jpeg', 'img2.jpeg', 'img3.jpeg', 'img4.jpeg', 'img5.jpeg', 'img6.jpeg','img7.jpeg', 'img9.jpeg', 'img10.jpeg'],\n",
        "    'class2': ['img1.jpeg', 'img2.jpeg', 'img3.jpeg', 'img4.jpeg', 'img5.jpeg', 'img6.jpeg','img7.jpeg', 'img9.jpeg', 'img10.jpeg']\n",
        "}\n",
        "\n",
        "val_data = {\n",
        "    'class1': ['img3.jpeg', 'img2.jpeg', 'img3.jpeg', 'img4.jpeg', 'img5.jpeg', 'img6.jpeg','img7.jpeg', 'img9.jpeg', 'img10.jpeg'],\n",
        "    'class2': ['img4.jpeg', 'img2.jpeg', 'img3.jpeg', 'img4.jpeg', 'img5.jpeg', 'img6.jpeg','img7.jpeg', 'img9.jpeg', 'img10.jpeg']\n",
        "}\n",
        "image_url = \"https://wallpaperaccess.com/full/4723250.jpg\"\n",
        "\n",
        "def fn(name, data):\n",
        "    train_dir = os.path.join(base_dir, name)\n",
        "    os.makedirs(train_dir, exist_ok=True)\n",
        "\n",
        "    for class_name, images in data.items():\n",
        "        class_dir = os.path.join(train_dir, class_name)\n",
        "        os.makedirs(class_dir, exist_ok=True)\n",
        "        for img in images:\n",
        "            img_path = os.path.join(class_dir, img)\n",
        "            shutil.copy('test.jpg', img_path)\n",
        "\n",
        "fn('train', train_data)\n",
        "fn('val', val_data)"
      ]
    },
    {
      "cell_type": "code",
      "execution_count": 7,
      "metadata": {
        "id": "lKXe1HDlnyda"
      },
      "outputs": [
        {
          "name": "stderr",
          "output_type": "stream",
          "text": [
            "/root/miniconda3/lib/python3.12/site-packages/tqdm/auto.py:21: TqdmWarning: IProgress not found. Please update jupyter and ipywidgets. See https://ipywidgets.readthedocs.io/en/stable/user_install.html\n",
            "  from .autonotebook import tqdm as notebook_tqdm\n"
          ]
        }
      ],
      "source": [
        "from CrossViT.models.crossvit import VisionTransformer"
      ]
    },
    {
      "cell_type": "code",
      "execution_count": 8,
      "metadata": {
        "id": "rMGDSEnqo5Jy"
      },
      "outputs": [],
      "source": [
        "vit = VisionTransformer()\n",
        "# vit"
      ]
    },
    {
      "cell_type": "code",
      "execution_count": 9,
      "metadata": {
        "colab": {
          "base_uri": "https://localhost:8080/"
        },
        "id": "uyzTjmjl-xPs",
        "outputId": "23419089-5adb-4ffb-9b55-abbf447957e1"
      },
      "outputs": [],
      "source": [
        "import torch\n",
        "from CrossViT.models.crossvit import VisionTransformer\n",
        "vit = VisionTransformer().to('cuda')"
      ]
    },
    {
      "cell_type": "code",
      "execution_count": 10,
      "metadata": {
        "colab": {
          "base_uri": "https://localhost:8080/"
        },
        "id": "bZa3NYOvEZ3N",
        "outputId": "be8d54e3-3dce-4e5f-a23e-571a7985544e"
      },
      "outputs": [
        {
          "data": {
            "text/plain": [
              "torch.Size([8, 1000])"
            ]
          },
          "execution_count": 10,
          "metadata": {},
          "output_type": "execute_result"
        }
      ],
      "source": [
        "IMG_SIZE = 256\n",
        "input = torch.randn(8, 3, IMG_SIZE, IMG_SIZE).to(\"cuda\")\n",
        "output = vit(input)\n",
        "output.shape"
      ]
    },
    {
      "cell_type": "code",
      "execution_count": null,
      "metadata": {
        "id": "hOzLipSYD5RA"
      },
      "outputs": [],
      "source": [
        "!python /content/CrossViT/main.py --model crossvit_9_dagger_224 --batch-size 8 --data-path \"/content/CrossViT/data\""
      ]
    },
    {
      "cell_type": "code",
      "execution_count": null,
      "metadata": {
        "id": "f6aTTkwEsgH7"
      },
      "outputs": [],
      "source": [
        "import torch\n",
        "\n",
        "from xlstm.xlstm import (\n",
        "    xLSTMBlockStack,\n",
        "    xLSTMBlockStackConfig,\n",
        "    mLSTMBlockConfig,\n",
        "    mLSTMLayerConfig,\n",
        "    sLSTMBlockConfig,\n",
        "    sLSTMLayerConfig,\n",
        "    FeedForwardConfig,\n",
        ")"
      ]
    },
    {
      "cell_type": "code",
      "execution_count": null,
      "metadata": {
        "id": "2HCFM6xSsI8y"
      },
      "outputs": [],
      "source": [
        "cfg = xLSTMBlockStackConfig(\n",
        "    mlstm_block=mLSTMBlockConfig(\n",
        "        mlstm=mLSTMLayerConfig(\n",
        "            conv1d_kernel_size=4, qkv_proj_blocksize=4, num_heads=4\n",
        "        )\n",
        "    ),\n",
        "    slstm_block=sLSTMBlockConfig(\n",
        "        slstm=sLSTMLayerConfig(\n",
        "            backend=\"cuda\",\n",
        "            num_heads=4,\n",
        "            conv1d_kernel_size=4,\n",
        "            bias_init=\"powerlaw_blockdependent\",\n",
        "        ),\n",
        "        feedforward=FeedForwardConfig(proj_factor=1.3, act_fn=\"gelu\"),\n",
        "    ),\n",
        "    context_length=256,\n",
        "    num_blocks=7,\n",
        "    embedding_dim=128,\n",
        "    slstm_at=[1],\n",
        "\n",
        ")\n",
        "\n",
        "xlstm_stack = xLSTMBlockStack(cfg)\n",
        "xlstm_stack"
      ]
    },
    {
      "cell_type": "code",
      "execution_count": null,
      "metadata": {
        "colab": {
          "base_uri": "https://localhost:8080/"
        },
        "id": "XRYmxzS6t0m8",
        "outputId": "3c35f885-ef5e-4682-a3d2-43fc00b942b0"
      },
      "outputs": [
        {
          "data": {
            "text/plain": [
              "torch.Size([4, 256, 128])"
            ]
          },
          "execution_count": 3,
          "metadata": {},
          "output_type": "execute_result"
        }
      ],
      "source": [
        "cfg = xLSTMBlockStackConfig(\n",
        "    mlstm_block=mLSTMBlockConfig(\n",
        "        mlstm=mLSTMLayerConfig(\n",
        "            conv1d_kernel_size=4, qkv_proj_blocksize=4, num_heads=4\n",
        "        )\n",
        "    ),\n",
        "    slstm_block=None,\n",
        "    context_length=256,\n",
        "    num_blocks=1,\n",
        "    embedding_dim=128,\n",
        ")\n",
        "\n",
        "xlstm_stack = xLSTMBlockStack(cfg)\n",
        "# xlstm_stack\n",
        "x = torch.randn(4, 256, 128).to(\"cuda\")\n",
        "xlstm_stack = xlstm_stack.to(\"cuda\")\n",
        "y = xlstm_stack(x)\n",
        "y.shape"
      ]
    },
    {
      "cell_type": "code",
      "execution_count": null,
      "metadata": {
        "id": "Vq_yJjhWt6cO"
      },
      "outputs": [],
      "source": [
        "cfg = xLSTMBlockStackConfig(\n",
        "    mlstm_block=None,\n",
        "    slstm_block=sLSTMBlockConfig(\n",
        "        slstm=sLSTMLayerConfig(\n",
        "            backend=\"cuda\",\n",
        "            num_heads=4,\n",
        "            conv1d_kernel_size=4,\n",
        "            bias_init=\"powerlaw_blockdependent\",\n",
        "        ),\n",
        "        feedforward=FeedForwardConfig(proj_factor=1.3, act_fn=\"gelu\"),\n",
        "    ),\n",
        "    context_length=256,\n",
        "    num_blocks=1,\n",
        "    embedding_dim=128,\n",
        ")\n",
        "\n",
        "xlstm_stack = xLSTMBlockStack(cfg)\n",
        "# xlstm_stack"
      ]
    },
    {
      "cell_type": "code",
      "execution_count": null,
      "metadata": {
        "id": "DmKFcohKsI67"
      },
      "outputs": [],
      "source": [
        "x = torch.randn(1, 4, 256, 128).to(\"cuda\")\n",
        "xlstm_stack = xlstm_stack.to(\"cuda\")\n",
        "y = xlstm_stack(x)\n",
        "y.shape"
      ]
    }
  ],
  "metadata": {
    "accelerator": "GPU",
    "colab": {
      "gpuType": "T4",
      "provenance": []
    },
    "kernelspec": {
      "display_name": "Python 3",
      "name": "python3"
    },
    "language_info": {
      "codemirror_mode": {
        "name": "ipython",
        "version": 3
      },
      "file_extension": ".py",
      "mimetype": "text/x-python",
      "name": "python",
      "nbconvert_exporter": "python",
      "pygments_lexer": "ipython3",
      "version": "3.12.2"
    }
  },
  "nbformat": 4,
  "nbformat_minor": 0
}
